{
  "nbformat": 4,
  "nbformat_minor": 0,
  "metadata": {
    "colab": {
      "name": "Untitled6.ipynb",
      "version": "0.3.2",
      "provenance": [],
      "collapsed_sections": [],
      "include_colab_link": true
    },
    "kernelspec": {
      "name": "python3",
      "display_name": "Python 3"
    }
  },
  "cells": [
    {
      "cell_type": "markdown",
      "metadata": {
        "id": "view-in-github",
        "colab_type": "text"
      },
      "source": [
        "<a href=\"https://colab.research.google.com/github/asis012/tensorflow_practice/blob/master/Untitled6.ipynb\" target=\"_parent\"><img src=\"https://colab.research.google.com/assets/colab-badge.svg\" alt=\"Open In Colab\"/></a>"
      ]
    },
    {
      "cell_type": "code",
      "metadata": {
        "id": "mAZ7mM0WuCXt",
        "colab_type": "code",
        "colab": {}
      },
      "source": [
        "import tensorflow as tf"
      ],
      "execution_count": 0,
      "outputs": []
    },
    {
      "cell_type": "code",
      "metadata": {
        "id": "bagyPR5ruG3I",
        "colab_type": "code",
        "outputId": "4c436c6d-396f-479a-8666-1a0a7d9b146a",
        "colab": {
          "base_uri": "https://localhost:8080/",
          "height": 34
        }
      },
      "source": [
        "tf.__version__"
      ],
      "execution_count": 0,
      "outputs": [
        {
          "output_type": "execute_result",
          "data": {
            "text/plain": [
              "'1.14.0'"
            ]
          },
          "metadata": {
            "tags": []
          },
          "execution_count": 5
        }
      ]
    },
    {
      "cell_type": "code",
      "metadata": {
        "id": "aXpxLFBJuLDB",
        "colab_type": "code",
        "colab": {}
      },
      "source": [
        "hello = tf.constant(\"hello\")\n",
        "world = tf.constant('world')"
      ],
      "execution_count": 0,
      "outputs": []
    },
    {
      "cell_type": "code",
      "metadata": {
        "id": "gTghyHpYudTx",
        "colab_type": "code",
        "outputId": "a5d6b7bb-2412-402e-d6e0-db13ee1c561b",
        "colab": {
          "base_uri": "https://localhost:8080/",
          "height": 34
        }
      },
      "source": [
        "type(hello)"
      ],
      "execution_count": 0,
      "outputs": [
        {
          "output_type": "execute_result",
          "data": {
            "text/plain": [
              "tensorflow.python.framework.ops.Tensor"
            ]
          },
          "metadata": {
            "tags": []
          },
          "execution_count": 9
        }
      ]
    },
    {
      "cell_type": "code",
      "metadata": {
        "id": "ZWU74wdVulQN",
        "colab_type": "code",
        "outputId": "59eb0c7e-aa04-4cde-a092-7d50ffd55194",
        "colab": {
          "base_uri": "https://localhost:8080/",
          "height": 34
        }
      },
      "source": [
        "hello"
      ],
      "execution_count": 0,
      "outputs": [
        {
          "output_type": "execute_result",
          "data": {
            "text/plain": [
              "<tf.Tensor 'Const_2:0' shape=() dtype=string>"
            ]
          },
          "metadata": {
            "tags": []
          },
          "execution_count": 12
        }
      ]
    },
    {
      "cell_type": "code",
      "metadata": {
        "id": "dMdA0bN-uoPI",
        "colab_type": "code",
        "outputId": "2ac2eadd-47a3-4006-b82b-3e86417be9ff",
        "colab": {
          "base_uri": "https://localhost:8080/",
          "height": 34
        }
      },
      "source": [
        "world"
      ],
      "execution_count": 0,
      "outputs": [
        {
          "output_type": "execute_result",
          "data": {
            "text/plain": [
              "<tf.Tensor 'Const_3:0' shape=() dtype=string>"
            ]
          },
          "metadata": {
            "tags": []
          },
          "execution_count": 13
        }
      ]
    },
    {
      "cell_type": "code",
      "metadata": {
        "id": "FE0TdftJuzhE",
        "colab_type": "code",
        "outputId": "52876261-cd93-43b2-c16f-4648895697d6",
        "colab": {
          "base_uri": "https://localhost:8080/",
          "height": 34
        }
      },
      "source": [
        "print(hello) "
      ],
      "execution_count": 0,
      "outputs": [
        {
          "output_type": "stream",
          "text": [
            "Tensor(\"Const_2:0\", shape=(), dtype=string)\n"
          ],
          "name": "stdout"
        }
      ]
    },
    {
      "cell_type": "markdown",
      "metadata": {
        "id": "44aJ2TG-vgf0",
        "colab_type": "text"
      },
      "source": [
        "to print hello world we have to create some session\n"
      ]
    },
    {
      "cell_type": "code",
      "metadata": {
        "id": "mFqwZJfGu1dt",
        "colab_type": "code",
        "colab": {}
      },
      "source": [
        "with tf.Session() as sess:\n",
        "  result= sess.run(hello + world)\n",
        "  mat = sess.run(randn)"
      ],
      "execution_count": 0,
      "outputs": []
    },
    {
      "cell_type": "code",
      "metadata": {
        "id": "wyveGJk7vQm-",
        "colab_type": "code",
        "outputId": "df2bf9f4-5534-4fe2-c6a5-3fdc34463a6e",
        "colab": {
          "base_uri": "https://localhost:8080/",
          "height": 102
        }
      },
      "source": [
        "print(result)\n",
        "print(mat)"
      ],
      "execution_count": 0,
      "outputs": [
        {
          "output_type": "stream",
          "text": [
            "b'helloworld'\n",
            "[[ 1.6365168  -0.8869709  -0.871523   -0.26739064]\n",
            " [-0.09967966 -1.4328556  -1.9888598   0.7399277 ]\n",
            " [ 1.2724558   1.3455384  -0.99023217 -0.25547493]\n",
            " [-0.9329696  -0.2851545  -0.56290597  0.7319227 ]]\n"
          ],
          "name": "stdout"
        }
      ]
    },
    {
      "cell_type": "code",
      "metadata": {
        "id": "f7XeV_DfvtZU",
        "colab_type": "code",
        "colab": {}
      },
      "source": [
        "var1 = tf.constant(10)\n",
        "var2 = tf.constant(20)"
      ],
      "execution_count": 0,
      "outputs": []
    },
    {
      "cell_type": "code",
      "metadata": {
        "id": "3Fh0CGwav8ZG",
        "colab_type": "code",
        "outputId": "ad352944-4713-46df-b3aa-5b8c3e80dee6",
        "colab": {
          "base_uri": "https://localhost:8080/",
          "height": 34
        }
      },
      "source": [
        "var1 + var2"
      ],
      "execution_count": 0,
      "outputs": [
        {
          "output_type": "execute_result",
          "data": {
            "text/plain": [
              "<tf.Tensor 'add_1:0' shape=() dtype=int32>"
            ]
          },
          "metadata": {
            "tags": []
          },
          "execution_count": 18
        }
      ]
    },
    {
      "cell_type": "code",
      "metadata": {
        "id": "Uwyz0vFxv-8W",
        "colab_type": "code",
        "colab": {}
      },
      "source": [
        "with tf.Session() as sess:\n",
        "  result= sess.run(var1 + var2)"
      ],
      "execution_count": 0,
      "outputs": []
    },
    {
      "cell_type": "code",
      "metadata": {
        "id": "m27WnFCfwDY1",
        "colab_type": "code",
        "outputId": "2fceb1fe-4422-40e0-a700-11c67653a49e",
        "colab": {
          "base_uri": "https://localhost:8080/",
          "height": 34
        }
      },
      "source": [
        "print(result)"
      ],
      "execution_count": 0,
      "outputs": [
        {
          "output_type": "stream",
          "text": [
            "30\n"
          ],
          "name": "stdout"
        }
      ]
    },
    {
      "cell_type": "code",
      "metadata": {
        "id": "frIf2RJewE71",
        "colab_type": "code",
        "colab": {}
      },
      "source": [
        "mat_1 = tf.fill((5,5),10)"
      ],
      "execution_count": 0,
      "outputs": []
    },
    {
      "cell_type": "code",
      "metadata": {
        "id": "Z-VgCLvBwUnL",
        "colab_type": "code",
        "outputId": "cabe3286-9ce4-4c53-f795-09de3e9fa700",
        "colab": {
          "base_uri": "https://localhost:8080/",
          "height": 34
        }
      },
      "source": [
        "mat_1"
      ],
      "execution_count": 0,
      "outputs": [
        {
          "output_type": "execute_result",
          "data": {
            "text/plain": [
              "<tf.Tensor 'Fill:0' shape=(5, 5) dtype=int32>"
            ]
          },
          "metadata": {
            "tags": []
          },
          "execution_count": 22
        }
      ]
    },
    {
      "cell_type": "code",
      "metadata": {
        "id": "SJwPcK1XwWSO",
        "colab_type": "code",
        "colab": {}
      },
      "source": [
        "zeros = tf.zeros((5,5))"
      ],
      "execution_count": 0,
      "outputs": []
    },
    {
      "cell_type": "code",
      "metadata": {
        "id": "p7T3jzdswbxy",
        "colab_type": "code",
        "colab": {}
      },
      "source": [
        "one = tf.ones((5,5),1)"
      ],
      "execution_count": 0,
      "outputs": []
    },
    {
      "cell_type": "code",
      "metadata": {
        "id": "Ff8WpMlowf2r",
        "colab_type": "code",
        "colab": {}
      },
      "source": [
        "randn = tf.random_normal((4,4),mean=0,stddev=1.0)"
      ],
      "execution_count": 0,
      "outputs": []
    },
    {
      "cell_type": "code",
      "metadata": {
        "id": "8IvVttDgwpnt",
        "colab_type": "code",
        "colab": {}
      },
      "source": [
        "randu = tf.random_uniform((4,4),minval=0,maxval=1)"
      ],
      "execution_count": 0,
      "outputs": []
    },
    {
      "cell_type": "code",
      "metadata": {
        "id": "NsViVWsq1z3Q",
        "colab_type": "code",
        "colab": {}
      },
      "source": [
        "myops= [mat_1,mat_1,zeros,one,randn,randu]"
      ],
      "execution_count": 0,
      "outputs": []
    },
    {
      "cell_type": "code",
      "metadata": {
        "id": "38POQt3P1-ID",
        "colab_type": "code",
        "outputId": "71376ce2-3062-4054-ff6c-4e9f84c53ed1",
        "colab": {
          "base_uri": "https://localhost:8080/",
          "height": 71
        }
      },
      "source": [
        "sess = tf.InteractiveSession()"
      ],
      "execution_count": 0,
      "outputs": [
        {
          "output_type": "stream",
          "text": [
            "/usr/local/lib/python3.6/dist-packages/tensorflow/python/client/session.py:1735: UserWarning: An interactive session is already active. This can cause out-of-memory errors in some cases. You must explicitly call `InteractiveSession.close()` to release resources held by the other session(s).\n",
            "  warnings.warn('An interactive session is already active. This can '\n"
          ],
          "name": "stderr"
        }
      ]
    },
    {
      "cell_type": "code",
      "metadata": {
        "id": "1WZcCkfe2O5m",
        "colab_type": "code",
        "outputId": "5a3ad30d-4089-43b1-aee0-de3bc03b27e6",
        "colab": {
          "base_uri": "https://localhost:8080/",
          "height": 1000
        }
      },
      "source": [
        "for op in myops:\n",
        "  print(sess.run(op))\n",
        "  print(\"\\n\")\n",
        "  print(op.eval())\n",
        "  print(\"next\")"
      ],
      "execution_count": 0,
      "outputs": [
        {
          "output_type": "stream",
          "text": [
            "[[10 10 10 10 10]\n",
            " [10 10 10 10 10]\n",
            " [10 10 10 10 10]\n",
            " [10 10 10 10 10]\n",
            " [10 10 10 10 10]]\n",
            "\n",
            "\n",
            "[[10 10 10 10 10]\n",
            " [10 10 10 10 10]\n",
            " [10 10 10 10 10]\n",
            " [10 10 10 10 10]\n",
            " [10 10 10 10 10]]\n",
            "next\n",
            "[[10 10 10 10 10]\n",
            " [10 10 10 10 10]\n",
            " [10 10 10 10 10]\n",
            " [10 10 10 10 10]\n",
            " [10 10 10 10 10]]\n",
            "\n",
            "\n",
            "[[10 10 10 10 10]\n",
            " [10 10 10 10 10]\n",
            " [10 10 10 10 10]\n",
            " [10 10 10 10 10]\n",
            " [10 10 10 10 10]]\n",
            "next\n",
            "[[0. 0. 0. 0. 0.]\n",
            " [0. 0. 0. 0. 0.]\n",
            " [0. 0. 0. 0. 0.]\n",
            " [0. 0. 0. 0. 0.]\n",
            " [0. 0. 0. 0. 0.]]\n",
            "\n",
            "\n",
            "[[0. 0. 0. 0. 0.]\n",
            " [0. 0. 0. 0. 0.]\n",
            " [0. 0. 0. 0. 0.]\n",
            " [0. 0. 0. 0. 0.]\n",
            " [0. 0. 0. 0. 0.]]\n",
            "next\n",
            "[[1. 1. 1. 1. 1.]\n",
            " [1. 1. 1. 1. 1.]\n",
            " [1. 1. 1. 1. 1.]\n",
            " [1. 1. 1. 1. 1.]\n",
            " [1. 1. 1. 1. 1.]]\n",
            "\n",
            "\n",
            "[[1. 1. 1. 1. 1.]\n",
            " [1. 1. 1. 1. 1.]\n",
            " [1. 1. 1. 1. 1.]\n",
            " [1. 1. 1. 1. 1.]\n",
            " [1. 1. 1. 1. 1.]]\n",
            "next\n",
            "[[-0.80764186 -0.9300833  -0.53778195 -0.32890502]\n",
            " [ 1.2952517  -1.8059086   0.940137   -1.3537741 ]\n",
            " [ 0.45964414 -0.504491   -0.51765263  0.4133332 ]\n",
            " [-2.624831    0.00348579  0.29434246  1.3264662 ]]\n",
            "\n",
            "\n",
            "[[-0.89194614  0.54693437 -0.4451934  -0.31445372]\n",
            " [-0.8073195  -1.6157326   0.63008744  0.24245751]\n",
            " [-0.00507481  0.53050786  0.1002145   0.07493688]\n",
            " [-0.00452816 -1.4726946   0.08368955  0.5951861 ]]\n",
            "next\n",
            "[[0.45954645 0.6393416  0.2041806  0.43017662]\n",
            " [0.57674634 0.87951994 0.308339   0.3948723 ]\n",
            " [0.22925663 0.47460818 0.5330281  0.9612994 ]\n",
            " [0.83457434 0.6814959  0.04626    0.24768639]]\n",
            "\n",
            "\n",
            "[[0.5574136  0.48736262 0.3164413  0.55900884]\n",
            " [0.14381135 0.11675835 0.46726418 0.43839324]\n",
            " [0.9704882  0.9701271  0.49199498 0.76497805]\n",
            " [0.37091005 0.01963866 0.03599977 0.9841713 ]]\n",
            "next\n"
          ],
          "name": "stdout"
        }
      ]
    },
    {
      "cell_type": "code",
      "metadata": {
        "id": "bDGz7L7F2R8E",
        "colab_type": "code",
        "colab": {}
      },
      "source": [
        "a = tf.constant([[1,2],[3,4]])"
      ],
      "execution_count": 0,
      "outputs": []
    },
    {
      "cell_type": "markdown",
      "metadata": {
        "id": "OF8Tdrph215q",
        "colab_type": "text"
      },
      "source": [
        "multiplication operation\n"
      ]
    },
    {
      "cell_type": "code",
      "metadata": {
        "id": "cslRAbsZ3Ewp",
        "colab_type": "code",
        "colab": {}
      },
      "source": [
        " b =tf.constant([[3],[4]])"
      ],
      "execution_count": 0,
      "outputs": []
    },
    {
      "cell_type": "code",
      "metadata": {
        "id": "Pd7793p-3MEF",
        "colab_type": "code",
        "colab": {}
      },
      "source": [
        "result = tf.matmul(a,b)"
      ],
      "execution_count": 0,
      "outputs": []
    },
    {
      "cell_type": "code",
      "metadata": {
        "id": "5_u3Rpvw3VvG",
        "colab_type": "code",
        "outputId": "754429a1-1d79-42e6-9fe4-3578b32b3e3a",
        "colab": {
          "base_uri": "https://localhost:8080/",
          "height": 51
        }
      },
      "source": [
        "sess.run(result)"
      ],
      "execution_count": 0,
      "outputs": [
        {
          "output_type": "execute_result",
          "data": {
            "text/plain": [
              "array([[11],\n",
              "       [25]], dtype=int32)"
            ]
          },
          "metadata": {
            "tags": []
          },
          "execution_count": 56
        }
      ]
    },
    {
      "cell_type": "code",
      "metadata": {
        "id": "VJzDHmh-3ZFp",
        "colab_type": "code",
        "colab": {}
      },
      "source": [
        ""
      ],
      "execution_count": 0,
      "outputs": []
    }
  ]
}