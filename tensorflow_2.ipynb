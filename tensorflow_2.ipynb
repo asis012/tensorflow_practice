{
  "nbformat": 4,
  "nbformat_minor": 0,
  "metadata": {
    "colab": {
      "name": "Untitled7.ipynb",
      "version": "0.3.2",
      "provenance": [],
      "include_colab_link": true
    },
    "kernelspec": {
      "name": "python3",
      "display_name": "Python 3"
    }
  },
  "cells": [
    {
      "cell_type": "markdown",
      "metadata": {
        "id": "view-in-github",
        "colab_type": "text"
      },
      "source": [
        "<a href=\"https://colab.research.google.com/github/asis012/tensorflow_practice/blob/master/tensorflow_2.ipynb\" target=\"_parent\"><img src=\"https://colab.research.google.com/assets/colab-badge.svg\" alt=\"Open In Colab\"/></a>"
      ]
    },
    {
      "cell_type": "code",
      "metadata": {
        "id": "jmFg5__v4-vI",
        "colab_type": "code",
        "colab": {}
      },
      "source": [
        "import tensorflow as tf"
      ],
      "execution_count": 0,
      "outputs": []
    },
    {
      "cell_type": "code",
      "metadata": {
        "id": "hBEVkfsk5BCM",
        "colab_type": "code",
        "colab": {}
      },
      "source": [
        "a = tf.constant(10)\n",
        "b = tf.constant(20)"
      ],
      "execution_count": 0,
      "outputs": []
    },
    {
      "cell_type": "code",
      "metadata": {
        "id": "VGodpyCz5NAe",
        "colab_type": "code",
        "colab": {}
      },
      "source": [
        "sum = 1 + b"
      ],
      "execution_count": 0,
      "outputs": []
    },
    {
      "cell_type": "code",
      "metadata": {
        "id": "Wg5R_9bt5RD8",
        "colab_type": "code",
        "colab": {}
      },
      "source": [
        "with tf.Session() as sess:\n",
        "  result = sess.run(sum)"
      ],
      "execution_count": 0,
      "outputs": []
    },
    {
      "cell_type": "code",
      "metadata": {
        "id": "SYxvhG3A5Xrr",
        "colab_type": "code",
        "colab": {
          "base_uri": "https://localhost:8080/",
          "height": 34
        },
        "outputId": "a40f10bc-86b7-4952-c487-f23827eca8a3"
      },
      "source": [
        "print(result)"
      ],
      "execution_count": 11,
      "outputs": [
        {
          "output_type": "stream",
          "text": [
            "21\n"
          ],
          "name": "stdout"
        }
      ]
    },
    {
      "cell_type": "code",
      "metadata": {
        "id": "6GN0Ilcv5ZnB",
        "colab_type": "code",
        "colab": {
          "base_uri": "https://localhost:8080/",
          "height": 34
        },
        "outputId": "30344396-73fd-46e2-e7b4-31ef65a07921"
      },
      "source": [
        "print(sum)"
      ],
      "execution_count": 13,
      "outputs": [
        {
          "output_type": "stream",
          "text": [
            "Tensor(\"add_1:0\", shape=(), dtype=int32)\n"
          ],
          "name": "stdout"
        }
      ]
    },
    {
      "cell_type": "markdown",
      "metadata": {
        "id": "ROYsSF6f6WTa",
        "colab_type": "text"
      },
      "source": [
        "**everything is done in graph using node as operator and leaves as values**"
      ]
    },
    {
      "cell_type": "code",
      "metadata": {
        "id": "594DPd7m5hfC",
        "colab_type": "code",
        "colab": {
          "base_uri": "https://localhost:8080/",
          "height": 34
        },
        "outputId": "35b6d185-952d-4557-a291-4aa88b470170"
      },
      "source": [
        "print(tf.get_default_graph())"
      ],
      "execution_count": 18,
      "outputs": [
        {
          "output_type": "stream",
          "text": [
            "<tensorflow.python.framework.ops.Graph object at 0x7f0794cab748>\n"
          ],
          "name": "stdout"
        }
      ]
    },
    {
      "cell_type": "code",
      "metadata": {
        "id": "-RhlNiom6duk",
        "colab_type": "code",
        "colab": {
          "base_uri": "https://localhost:8080/",
          "height": 34
        },
        "outputId": "cbc9ed0c-8796-448c-b6b6-421f391ec9b8"
      },
      "source": [
        "g = tf.Graph()\n",
        "print(g)"
      ],
      "execution_count": 17,
      "outputs": [
        {
          "output_type": "stream",
          "text": [
            "<tensorflow.python.framework.ops.Graph object at 0x7f078fc28710>\n"
          ],
          "name": "stdout"
        }
      ]
    },
    {
      "cell_type": "code",
      "metadata": {
        "id": "joKecUt36sAI",
        "colab_type": "code",
        "colab": {
          "base_uri": "https://localhost:8080/",
          "height": 34
        },
        "outputId": "13d6e960-9673-458a-94d6-dfb58e7c7cff"
      },
      "source": [
        "g_1 = tf.get_default_graph()\n",
        "print(g_1)"
      ],
      "execution_count": 19,
      "outputs": [
        {
          "output_type": "stream",
          "text": [
            "<tensorflow.python.framework.ops.Graph object at 0x7f0794cab748>\n"
          ],
          "name": "stdout"
        }
      ]
    },
    {
      "cell_type": "code",
      "metadata": {
        "id": "L7CuxSw983Uk",
        "colab_type": "code",
        "colab": {
          "base_uri": "https://localhost:8080/",
          "height": 34
        },
        "outputId": "06a49fd5-279f-4cae-feb8-bf0a7fa48b1d"
      },
      "source": [
        "g_2 = tf.Graph()\n",
        "print(g_2)"
      ],
      "execution_count": 20,
      "outputs": [
        {
          "output_type": "stream",
          "text": [
            "<tensorflow.python.framework.ops.Graph object at 0x7f078fc28550>\n"
          ],
          "name": "stdout"
        }
      ]
    },
    {
      "cell_type": "code",
      "metadata": {
        "id": "HvfhF5iCBlKu",
        "colab_type": "code",
        "colab": {
          "base_uri": "https://localhost:8080/",
          "height": 34
        },
        "outputId": "271a6d85-dc73-4bcb-bf2b-bb7862bc3b47"
      },
      "source": [
        "with g_2.as_default():\n",
        "  print(g_2 is tf.get_default_graph())"
      ],
      "execution_count": 21,
      "outputs": [
        {
          "output_type": "stream",
          "text": [
            "True\n"
          ],
          "name": "stdout"
        }
      ]
    },
    {
      "cell_type": "markdown",
      "metadata": {
        "id": "Tc1j6a7eCLv0",
        "colab_type": "text"
      },
      "source": [
        "**PLACEHOLDER && variable**"
      ]
    },
    {
      "cell_type": "code",
      "metadata": {
        "id": "8J57Evb6B4EQ",
        "colab_type": "code",
        "colab": {}
      },
      "source": [
        "#placeholer are like gate used to pass/keep training data or variables"
      ],
      "execution_count": 0,
      "outputs": []
    },
    {
      "cell_type": "code",
      "metadata": {
        "id": "ZB39-bCiDV7v",
        "colab_type": "code",
        "colab": {}
      },
      "source": [
        "sess = tf.InteractiveSession()"
      ],
      "execution_count": 0,
      "outputs": []
    },
    {
      "cell_type": "code",
      "metadata": {
        "id": "sKUJAZ7hDetb",
        "colab_type": "code",
        "colab": {}
      },
      "source": [
        "my_tensor = tf.random_uniform((5,5),0,2)"
      ],
      "execution_count": 0,
      "outputs": []
    },
    {
      "cell_type": "code",
      "metadata": {
        "id": "7h5ZiXntDu94",
        "colab_type": "code",
        "colab": {}
      },
      "source": [
        "var1 = tf.Variable(initial_value=my_tensor)"
      ],
      "execution_count": 0,
      "outputs": []
    },
    {
      "cell_type": "code",
      "metadata": {
        "id": "NY1z4eDyD8tR",
        "colab_type": "code",
        "colab": {
          "base_uri": "https://localhost:8080/",
          "height": 51
        },
        "outputId": "0c5f74bd-f1f1-4f8f-c3ee-53b0b91c732a"
      },
      "source": [
        "print(my_tensor)\n",
        "print(var1)"
      ],
      "execution_count": 29,
      "outputs": [
        {
          "output_type": "stream",
          "text": [
            "Tensor(\"random_uniform:0\", shape=(5, 5), dtype=float32)\n",
            "<tf.Variable 'Variable:0' shape=(5, 5) dtype=float32_ref>\n"
          ],
          "name": "stdout"
        }
      ]
    },
    {
      "cell_type": "code",
      "metadata": {
        "id": "-vjJpOGVEFzb",
        "colab_type": "code",
        "colab": {
          "base_uri": "https://localhost:8080/",
          "height": 119
        },
        "outputId": "8bd34f7b-d9b3-43ef-ea6a-9010ced38323"
      },
      "source": [
        "sess.run(my_tensor)"
      ],
      "execution_count": 30,
      "outputs": [
        {
          "output_type": "execute_result",
          "data": {
            "text/plain": [
              "array([[1.6949711 , 0.34635234, 0.38227248, 0.25788045, 0.49903703],\n",
              "       [1.8045144 , 1.5022242 , 0.98298264, 0.6829612 , 1.960953  ],\n",
              "       [0.6428354 , 0.9170277 , 1.1148524 , 0.8528762 , 0.8021035 ],\n",
              "       [0.72393155, 0.13367486, 1.1141062 , 0.8530495 , 1.5304551 ],\n",
              "       [1.8083749 , 1.5250852 , 0.749223  , 1.4102147 , 0.8469341 ]],\n",
              "      dtype=float32)"
            ]
          },
          "metadata": {
            "tags": []
          },
          "execution_count": 30
        }
      ]
    },
    {
      "cell_type": "code",
      "metadata": {
        "id": "8R0hhv2YEPBP",
        "colab_type": "code",
        "colab": {}
      },
      "source": [
        "init =tf.global_variables_initializer()\n",
        "sess.run(init)"
      ],
      "execution_count": 0,
      "outputs": []
    },
    {
      "cell_type": "code",
      "metadata": {
        "id": "fgidlhg4EX4d",
        "colab_type": "code",
        "colab": {
          "base_uri": "https://localhost:8080/",
          "height": 119
        },
        "outputId": "1e223af1-f6d3-4c6b-cf1f-1de1107c5dd4"
      },
      "source": [
        "sess.run(var1)"
      ],
      "execution_count": 32,
      "outputs": [
        {
          "output_type": "execute_result",
          "data": {
            "text/plain": [
              "array([[1.8262756 , 1.2829614 , 1.1651926 , 0.35174584, 1.4689219 ],\n",
              "       [1.0989609 , 0.19315076, 1.6382427 , 1.4092913 , 1.0287926 ],\n",
              "       [0.22092652, 0.33105707, 1.0125437 , 0.22063589, 0.5064552 ],\n",
              "       [0.50513744, 1.7937112 , 1.9364891 , 1.5758834 , 0.17779684],\n",
              "       [0.19668126, 0.1004467 , 1.050035  , 1.3004925 , 1.1297679 ]],\n",
              "      dtype=float32)"
            ]
          },
          "metadata": {
            "tags": []
          },
          "execution_count": 32
        }
      ]
    },
    {
      "cell_type": "code",
      "metadata": {
        "id": "AY7I-xNeEf82",
        "colab_type": "code",
        "colab": {}
      },
      "source": [
        " ph1 = tf.placeholder(tf.float32,shape=(None,4))"
      ],
      "execution_count": 0,
      "outputs": []
    },
    {
      "cell_type": "code",
      "metadata": {
        "id": "kiqEuPetFOhc",
        "colab_type": "code",
        "colab": {}
      },
      "source": [
        "ph2 = tf.placeholder(tf.float32,shape=(4,4))"
      ],
      "execution_count": 0,
      "outputs": []
    },
    {
      "cell_type": "code",
      "metadata": {
        "id": "7d6fX3R0FtL_",
        "colab_type": "code",
        "colab": {}
      },
      "source": [
        ""
      ],
      "execution_count": 0,
      "outputs": []
    }
  ]
}